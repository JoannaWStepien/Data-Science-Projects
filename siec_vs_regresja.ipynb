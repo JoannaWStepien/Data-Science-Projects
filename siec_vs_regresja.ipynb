{
 "cells": [
  {
   "cell_type": "markdown",
   "id": "ee34629d",
   "metadata": {},
   "source": [
    "# Sieć neuronowa "
   ]
  },
  {
   "cell_type": "code",
   "execution_count": 2,
   "id": "4eb1b91c",
   "metadata": {},
   "outputs": [],
   "source": [
    "import pandas as pd\n",
    "from sklearn.model_selection import train_test_split\n",
    "from tensorflow.keras.models import Sequential\n",
    "from tensorflow.keras.layers import Dense\n",
    "from tensorflow.keras.utils import to_categorical\n",
    "from tensorflow.keras.callbacks import EarlyStopping\n",
    "from tensorflow.keras.optimizers import Adam\n",
    "from tensorflow.keras.optimizers import SGD\n",
    "import matplotlib.pyplot as plt"
   ]
  },
  {
   "cell_type": "code",
   "execution_count": 3,
   "id": "2c23cb72",
   "metadata": {
    "scrolled": true
   },
   "outputs": [],
   "source": [
    "data = pd.read_csv('data.csv')\n",
    "data.describe()\n",
    "X = data[['x1','x2']]\n",
    "y = to_categorical(data['t'])\n",
    "X_train, X_test,y_train, y_test = train_test_split(X, y, random_state=104, test_size=0.3)"
   ]
  },
  {
   "cell_type": "markdown",
   "id": "aea52415",
   "metadata": {},
   "source": [
    "Używamy funkcji sigmoid, ponieważ rozważamy model z dwiema etykietami wyjściowymi."
   ]
  },
  {
   "cell_type": "code",
   "execution_count": 770,
   "id": "d7eb8092",
   "metadata": {},
   "outputs": [
    {
     "name": "stdout",
     "output_type": "stream",
     "text": [
      "Model: \"sequential_63\"\n",
      "_________________________________________________________________\n",
      " Layer (type)                Output Shape              Param #   \n",
      "=================================================================\n",
      " dense_126 (Dense)           (None, 10)                30        \n",
      "                                                                 \n",
      " dense_127 (Dense)           (None, 2)                 22        \n",
      "                                                                 \n",
      "=================================================================\n",
      "Total params: 52\n",
      "Trainable params: 52\n",
      "Non-trainable params: 0\n",
      "_________________________________________________________________\n"
     ]
    }
   ],
   "source": [
    "model = Sequential()\n",
    "model.add(Dense(10, input_shape=(2,), activation = 'relu'))\n",
    "model.add(Dense(2, activation='softmax')) \n",
    "model.summary()"
   ]
  },
  {
   "cell_type": "markdown",
   "id": "3a66ecb5",
   "metadata": {},
   "source": [
    "Jako fukcję starty używamy 'binary_crossentropy', ponieważ rozważamy problem klasyfikacji dwóch klas oraz wartości \n",
    "etykiety wyjściowej są przedstawione jako one-hot encoding. Zbiór został przetrenowany na funkcjach optymalizacji (optimizers) Adam oraz SGD dla różnych learning rates oraz zostały porównane otrzymane dla nich dokładności (accuracy). Najlepsza dokładność została otrzymana dla funkcji optymalizacji'adam' z learning_rate = 0.004."
   ]
  },
  {
   "cell_type": "code",
   "execution_count": 771,
   "id": "6cd1ba21",
   "metadata": {
    "scrolled": true
   },
   "outputs": [
    {
     "name": "stdout",
     "output_type": "stream",
     "text": [
      "Epoch 1/100\n",
      "16/16 [==============================] - 1s 19ms/step - loss: 1.4528 - accuracy: 0.4029 - val_loss: 1.0493 - val_accuracy: 0.5592\n",
      "Epoch 2/100\n",
      "16/16 [==============================] - 0s 6ms/step - loss: 0.9228 - accuracy: 0.5890 - val_loss: 0.6817 - val_accuracy: 0.7393\n",
      "Epoch 3/100\n",
      "16/16 [==============================] - 0s 6ms/step - loss: 0.5883 - accuracy: 0.7894 - val_loss: 0.4595 - val_accuracy: 0.8436\n",
      "Epoch 4/100\n",
      "16/16 [==============================] - 0s 7ms/step - loss: 0.3980 - accuracy: 0.8671 - val_loss: 0.3356 - val_accuracy: 0.8531\n",
      "Epoch 5/100\n",
      "16/16 [==============================] - 0s 7ms/step - loss: 0.2993 - accuracy: 0.8834 - val_loss: 0.2683 - val_accuracy: 0.8768\n",
      "Epoch 6/100\n",
      "16/16 [==============================] - 0s 7ms/step - loss: 0.2449 - accuracy: 0.8937 - val_loss: 0.2291 - val_accuracy: 0.8910\n",
      "Epoch 7/100\n",
      "16/16 [==============================] - 0s 6ms/step - loss: 0.2127 - accuracy: 0.9039 - val_loss: 0.2037 - val_accuracy: 0.9147\n",
      "Epoch 8/100\n",
      "16/16 [==============================] - 0s 6ms/step - loss: 0.1916 - accuracy: 0.9162 - val_loss: 0.1836 - val_accuracy: 0.9384\n",
      "Epoch 9/100\n",
      "16/16 [==============================] - 0s 6ms/step - loss: 0.1759 - accuracy: 0.9305 - val_loss: 0.1692 - val_accuracy: 0.9526\n",
      "Epoch 10/100\n",
      "16/16 [==============================] - 0s 6ms/step - loss: 0.1633 - accuracy: 0.9427 - val_loss: 0.1562 - val_accuracy: 0.9621\n",
      "Epoch 11/100\n",
      "16/16 [==============================] - 0s 6ms/step - loss: 0.1529 - accuracy: 0.9550 - val_loss: 0.1448 - val_accuracy: 0.9621\n",
      "Epoch 12/100\n",
      "16/16 [==============================] - 0s 6ms/step - loss: 0.1437 - accuracy: 0.9591 - val_loss: 0.1354 - val_accuracy: 0.9716\n",
      "Epoch 13/100\n",
      "16/16 [==============================] - 0s 6ms/step - loss: 0.1359 - accuracy: 0.9611 - val_loss: 0.1270 - val_accuracy: 0.9716\n",
      "Epoch 14/100\n",
      "16/16 [==============================] - 0s 6ms/step - loss: 0.1287 - accuracy: 0.9632 - val_loss: 0.1204 - val_accuracy: 0.9668\n",
      "Epoch 15/100\n",
      "16/16 [==============================] - 0s 6ms/step - loss: 0.1227 - accuracy: 0.9632 - val_loss: 0.1146 - val_accuracy: 0.9668\n",
      "Epoch 16/100\n",
      "16/16 [==============================] - 0s 6ms/step - loss: 0.1175 - accuracy: 0.9632 - val_loss: 0.1081 - val_accuracy: 0.9716\n",
      "Epoch 17/100\n",
      "16/16 [==============================] - 0s 6ms/step - loss: 0.1128 - accuracy: 0.9632 - val_loss: 0.1037 - val_accuracy: 0.9716\n",
      "Epoch 18/100\n",
      "16/16 [==============================] - 0s 6ms/step - loss: 0.1088 - accuracy: 0.9652 - val_loss: 0.0985 - val_accuracy: 0.9763\n",
      "Epoch 19/100\n",
      "16/16 [==============================] - 0s 6ms/step - loss: 0.1076 - accuracy: 0.9652 - val_loss: 0.1001 - val_accuracy: 0.9716\n",
      "Epoch 20/100\n",
      "16/16 [==============================] - 0s 6ms/step - loss: 0.1023 - accuracy: 0.9652 - val_loss: 0.0941 - val_accuracy: 0.9716\n",
      "Epoch 21/100\n",
      "16/16 [==============================] - 0s 6ms/step - loss: 0.0994 - accuracy: 0.9652 - val_loss: 0.0895 - val_accuracy: 0.9716\n",
      "Epoch 22/100\n",
      "16/16 [==============================] - 0s 6ms/step - loss: 0.0974 - accuracy: 0.9652 - val_loss: 0.0872 - val_accuracy: 0.9763\n",
      "Epoch 23/100\n",
      "16/16 [==============================] - 0s 6ms/step - loss: 0.0957 - accuracy: 0.9652 - val_loss: 0.0854 - val_accuracy: 0.9716\n",
      "Epoch 24/100\n",
      "16/16 [==============================] - 0s 6ms/step - loss: 0.0936 - accuracy: 0.9652 - val_loss: 0.0832 - val_accuracy: 0.9763\n",
      "Epoch 25/100\n",
      "16/16 [==============================] - 0s 6ms/step - loss: 0.0920 - accuracy: 0.9652 - val_loss: 0.0805 - val_accuracy: 0.9810\n",
      "Epoch 26/100\n",
      "16/16 [==============================] - 0s 6ms/step - loss: 0.0905 - accuracy: 0.9673 - val_loss: 0.0792 - val_accuracy: 0.9810\n",
      "Epoch 27/100\n",
      "16/16 [==============================] - 0s 6ms/step - loss: 0.0895 - accuracy: 0.9632 - val_loss: 0.0780 - val_accuracy: 0.9810\n",
      "Epoch 28/100\n",
      "16/16 [==============================] - 0s 6ms/step - loss: 0.0880 - accuracy: 0.9632 - val_loss: 0.0770 - val_accuracy: 0.9810\n",
      "Epoch 29/100\n",
      "16/16 [==============================] - 0s 6ms/step - loss: 0.0869 - accuracy: 0.9611 - val_loss: 0.0761 - val_accuracy: 0.9810\n",
      "Epoch 30/100\n",
      "16/16 [==============================] - 0s 6ms/step - loss: 0.0861 - accuracy: 0.9632 - val_loss: 0.0741 - val_accuracy: 0.9858\n",
      "Epoch 31/100\n",
      "16/16 [==============================] - 0s 6ms/step - loss: 0.0851 - accuracy: 0.9652 - val_loss: 0.0744 - val_accuracy: 0.9810\n",
      "Epoch 32/100\n",
      "16/16 [==============================] - 0s 6ms/step - loss: 0.0846 - accuracy: 0.9632 - val_loss: 0.0746 - val_accuracy: 0.9763\n",
      "Epoch 33/100\n",
      "16/16 [==============================] - 0s 6ms/step - loss: 0.0837 - accuracy: 0.9652 - val_loss: 0.0731 - val_accuracy: 0.9763\n",
      "Epoch 34/100\n",
      "16/16 [==============================] - 0s 6ms/step - loss: 0.0830 - accuracy: 0.9632 - val_loss: 0.0719 - val_accuracy: 0.9810\n",
      "Epoch 35/100\n",
      "16/16 [==============================] - 0s 6ms/step - loss: 0.0824 - accuracy: 0.9632 - val_loss: 0.0711 - val_accuracy: 0.9810\n",
      "Epoch 36/100\n",
      "16/16 [==============================] - 0s 6ms/step - loss: 0.0817 - accuracy: 0.9632 - val_loss: 0.0704 - val_accuracy: 0.9810\n",
      "Epoch 37/100\n",
      "16/16 [==============================] - 0s 6ms/step - loss: 0.0813 - accuracy: 0.9652 - val_loss: 0.0697 - val_accuracy: 0.9810\n",
      "Epoch 38/100\n",
      "16/16 [==============================] - 0s 6ms/step - loss: 0.0805 - accuracy: 0.9652 - val_loss: 0.0695 - val_accuracy: 0.9810\n",
      "Epoch 39/100\n",
      "16/16 [==============================] - 0s 6ms/step - loss: 0.0810 - accuracy: 0.9652 - val_loss: 0.0732 - val_accuracy: 0.9763\n",
      "Epoch 40/100\n",
      "16/16 [==============================] - 0s 6ms/step - loss: 0.0798 - accuracy: 0.9652 - val_loss: 0.0699 - val_accuracy: 0.9810\n",
      "10/10 [==============================] - 0s 2ms/step - loss: 0.0599 - accuracy: 0.9833\n"
     ]
    }
   ],
   "source": [
    "early_stopping = EarlyStopping(monitor = 'val_accuracy', patience = 10)\n",
    "opt = Adam(learning_rate=0.004)\n",
    "model.compile(optimizer = opt, loss = 'binary_crossentropy', metrics=['accuracy'])\n",
    "history = model.fit(X_train, y_train, epochs = 100, validation_split=0.3, callbacks=early_stopping)"
   ]
  },
  {
   "cell_type": "markdown",
   "id": "570860c4",
   "metadata": {},
   "source": [
    "Proces uczenia został zatrzymany na 40 epokach dzięki funkcji EarlyStopping. Gdy przez 10 epok dokładność zbioru walidacyjnego nie poprawiała się, trenowanie zostało zatrzymane. Dzięki temu zbiór nie zsotał przetrenowany. Zbiór walidacyjny stanowi 30% zbioru treningowego."
   ]
  },
  {
   "cell_type": "code",
   "execution_count": 772,
   "id": "8bac647b",
   "metadata": {},
   "outputs": [
    {
     "name": "stdout",
     "output_type": "stream",
     "text": [
      "10/10 [==============================] - 0s 3ms/step - loss: 0.0599 - accuracy: 0.9833\n",
      "0.9833333492279053\n"
     ]
    }
   ],
   "source": [
    "accuracy = model.evaluate(X_test, y_test)[1]\n",
    "print(accuracy)"
   ]
  },
  {
   "cell_type": "markdown",
   "id": "00ad7ccd",
   "metadata": {},
   "source": [
    "Dokładność modelu wynosi 98.33%"
   ]
  },
  {
   "cell_type": "code",
   "execution_count": 773,
   "id": "c51af21b",
   "metadata": {},
   "outputs": [
    {
     "name": "stdout",
     "output_type": "stream",
     "text": [
      "10/10 [==============================] - 0s 2ms/step\n",
      "     Actual  Predicted  if_equal\n",
      "34      0.0        1.0  notequal\n",
      "44      0.0        1.0  notequal\n",
      "172     0.0        1.0  notequal\n",
      "249     0.0        1.0  notequal\n",
      "275     0.0        1.0  notequal\n"
     ]
    }
   ],
   "source": [
    "preds = model.predict(X_test)\n",
    "preds = np.around(preds)\n",
    "summary = pd.DataFrame({'Actual' : y_test[:,0], 'Predicted' : preds[:,0]})\n",
    "summary['if_equal'] = np.where((summary['Actual'] == summary['Predicted']), 'equal', 'notequal')\n",
    "print(summary.loc[summary['if_equal'] == 'notequal'])"
   ]
  },
  {
   "cell_type": "markdown",
   "id": "f1f92ed7",
   "metadata": {},
   "source": [
    "Powyższa tabelka przedstawia dla których wierszy wyniki przewidywane i rzeczywiste są od siebie różne. Takich obserwacji jest pięć."
   ]
  },
  {
   "cell_type": "code",
   "execution_count": 774,
   "id": "717bb5fc",
   "metadata": {},
   "outputs": [
    {
     "data": {
      "text/plain": [
       "<function matplotlib.pyplot.show(close=None, block=None)>"
      ]
     },
     "execution_count": 774,
     "metadata": {},
     "output_type": "execute_result"
    },
    {
     "data": {
      "image/png": "[encoded data removed]",
      "text/plain": [
       "<Figure size 640x480 with 1 Axes>"
      ]
     },
     "metadata": {},
     "output_type": "display_data"
    }
   ],
   "source": [
    "plt.plot(history.history['accuracy'])\n",
    "plt.plot(history.history['val_accuracy'])\n",
    "plt.title('Model accuracy')\n",
    "plt.legend(['Train', 'Test'])\n",
    "plt.xlabel('epochs')\n",
    "plt.ylabel('Accuracy')\n",
    "plt.show"
   ]
  },
  {
   "cell_type": "markdown",
   "id": "e3e74f32",
   "metadata": {},
   "source": [
    "Dokładność zbioru testowego i trenowanego prawie idealnie na siebie nachodzi, co oznacza, że zbiór nie został przetrenowany (overfitted). Trenowanie zostało zatrzymane w odpowiednim momencie i zbór osiągnał optymalną dokładność."
   ]
  },
  {
   "cell_type": "code",
   "execution_count": 775,
   "id": "2b946dc0",
   "metadata": {
    "scrolled": false
   },
   "outputs": [
    {
     "data": {
      "text/plain": [
       "<function matplotlib.pyplot.show(close=None, block=None)>"
      ]
     },
     "execution_count": 775,
     "metadata": {},
     "output_type": "execute_result"
    },
    {
     "data": {
      "image/png": "[encoded data removed]",
      "text/plain": [
       "<Figure size 640x480 with 1 Axes>"
      ]
     },
     "metadata": {},
     "output_type": "display_data"
    }
   ],
   "source": [
    "plt.plot(history.history['loss'])\n",
    "plt.plot(history.history['val_loss'])\n",
    "plt.title('Model loss')\n",
    "plt.legend(['Train', 'Test'])\n",
    "plt.xlabel('epochs')\n",
    "plt.ylabel('Loss')\n",
    "plt.show"
   ]
  },
  {
   "cell_type": "markdown",
   "id": "9d30d1c7",
   "metadata": {},
   "source": [
    "Funkcje straty dla zbioru trenowanego i testowego nachodzą na siebie i się wypłaszczają. Oznacza to, że zbiór nie wymaga dalszego trenowania oraz nie został przetrenowany (overfitted). "
   ]
  },
  {
   "cell_type": "markdown",
   "id": "0d59eddb",
   "metadata": {},
   "source": [
    "# Regresja logistyczna"
   ]
  },
  {
   "cell_type": "code",
   "execution_count": 8,
   "id": "2340a5fe",
   "metadata": {},
   "outputs": [],
   "source": [
    "from sklearn.linear_model import LogisticRegression\n",
    "from sklearn import metrics\n",
    "import numpy as np\n",
    "import seaborn as sns\n",
    "import time\n",
    "from sklearn.metrics import roc_curve, roc_auc_score"
   ]
  },
  {
   "cell_type": "code",
   "execution_count": 9,
   "id": "c01ccd27",
   "metadata": {},
   "outputs": [],
   "source": [
    "import warnings\n",
    "from sklearn.exceptions import ConvergenceWarning\n",
    "\n",
    "warnings.simplefilter(action='ignore', category=FutureWarning)\n",
    "warnings.simplefilter(action='ignore', category=ConvergenceWarning)"
   ]
  },
  {
   "cell_type": "code",
   "execution_count": 20,
   "id": "ed6446e9",
   "metadata": {},
   "outputs": [],
   "source": [
    "model_df = pd.DataFrame()\n",
    "def solver(name):\n",
    "    global model_df\n",
    "    global model_reg\n",
    "    model_reg = LogisticRegression(solver=name)    \n",
    "    start_time = time.time() \n",
    "    model_reg.fit(X_train, y_train[:,0])\n",
    "    end_time = time.time()\n",
    "    score = model_reg.score(X_test, y_test[:,0])\n",
    "    param_dict = { 'algorithm': name, 'score': score, 'time': end_time - start_time}\n",
    "    model_df = model_df.append(pd.DataFrame(param_dict, index=[0]))\n",
    "    model_df.reset_index(drop=True, inplace=True)\n"
   ]
  },
  {
   "cell_type": "code",
   "execution_count": 21,
   "id": "81ac663e",
   "metadata": {
    "scrolled": false
   },
   "outputs": [],
   "source": [
    "solver('lbfgs')\n",
    "solver('saga')\n",
    "solver('sag')\n",
    "solver('newton-cg')\n",
    "solver('liblinear')"
   ]
  },
  {
   "cell_type": "code",
   "execution_count": 17,
   "id": "97032977",
   "metadata": {},
   "outputs": [
    {
     "data": {
      "text/html": [
       "<div>\n",
       "<style scoped>\n",
       "    .dataframe tbody tr th:only-of-type {\n",
       "        vertical-align: middle;\n",
       "    }\n",
       "\n",
       "    .dataframe tbody tr th {\n",
       "        vertical-align: top;\n",
       "    }\n",
       "\n",
       "    .dataframe thead th {\n",
       "        text-align: right;\n",
       "    }\n",
       "</style>\n",
       "<table border=\"1\" class=\"dataframe\">\n",
       "  <thead>\n",
       "    <tr style=\"text-align: right;\">\n",
       "      <th></th>\n",
       "      <th>algorithm</th>\n",
       "      <th>score</th>\n",
       "      <th>time</th>\n",
       "    </tr>\n",
       "  </thead>\n",
       "  <tbody>\n",
       "    <tr>\n",
       "      <th>0</th>\n",
       "      <td>lbfgs</td>\n",
       "      <td>0.983333</td>\n",
       "      <td>0.015953</td>\n",
       "    </tr>\n",
       "    <tr>\n",
       "      <th>1</th>\n",
       "      <td>saga</td>\n",
       "      <td>0.983333</td>\n",
       "      <td>0.018951</td>\n",
       "    </tr>\n",
       "    <tr>\n",
       "      <th>2</th>\n",
       "      <td>sag</td>\n",
       "      <td>0.983333</td>\n",
       "      <td>0.008012</td>\n",
       "    </tr>\n",
       "    <tr>\n",
       "      <th>3</th>\n",
       "      <td>newton-cg</td>\n",
       "      <td>0.983333</td>\n",
       "      <td>0.010938</td>\n",
       "    </tr>\n",
       "    <tr>\n",
       "      <th>4</th>\n",
       "      <td>liblinear</td>\n",
       "      <td>0.983333</td>\n",
       "      <td>0.002991</td>\n",
       "    </tr>\n",
       "  </tbody>\n",
       "</table>\n",
       "</div>"
      ],
      "text/plain": [
       "   algorithm     score      time\n",
       "0      lbfgs  0.983333  0.015953\n",
       "1       saga  0.983333  0.018951\n",
       "2        sag  0.983333  0.008012\n",
       "3  newton-cg  0.983333  0.010938\n",
       "4  liblinear  0.983333  0.002991"
      ]
     },
     "execution_count": 17,
     "metadata": {},
     "output_type": "execute_result"
    }
   ],
   "source": [
    "model_df"
   ]
  },
  {
   "cell_type": "markdown",
   "id": "96057d7c",
   "metadata": {},
   "source": [
    "Jak można zauważyć w powyższej tabelce wybór algorytmu nie ma znaczenia, ponieważ przewidywane prawdopodobieństwo dokładności\n",
    "modelu (score) jest takie samo dla każdego wariantu. Również nie ma większych różnic dla czasu trenowania zbioru między algorytmami."
   ]
  },
  {
   "cell_type": "code",
   "execution_count": 22,
   "id": "aa303b95",
   "metadata": {},
   "outputs": [
    {
     "data": {
      "text/plain": [
       "array([0., 1., 0., 0., 0., 0., 1., 1., 0., 1., 1., 0., 1., 1., 1., 0., 1.,\n",
       "       1., 0., 0., 1., 1., 0., 0., 1., 0., 0., 1., 0., 0., 0., 0., 0., 0.,\n",
       "       1., 1., 0., 0., 1., 1., 0., 0., 0., 0., 1., 0., 0., 0., 1., 0., 0.,\n",
       "       1., 0., 1., 1., 0., 1., 0., 1., 1., 0., 0., 0., 1., 0., 0., 1., 1.,\n",
       "       0., 0., 1., 1., 0., 1., 0., 1., 0., 0., 1., 0., 1., 0., 1., 0., 1.,\n",
       "       0., 1., 0., 1., 1., 0., 0., 1., 1., 0., 0., 1., 0., 1., 0., 1., 1.,\n",
       "       1., 0., 1., 0., 0., 1., 0., 0., 1., 0., 0., 1., 1., 0., 1., 0., 1.,\n",
       "       0., 1., 0., 1., 0., 1., 1., 0., 0., 1., 1., 1., 0., 0., 1., 1., 0.,\n",
       "       1., 1., 0., 0., 0., 1., 1., 1., 1., 0., 1., 0., 1., 1., 0., 0., 0.,\n",
       "       1., 1., 0., 1., 0., 0., 1., 0., 1., 0., 1., 1., 1., 0., 0., 0., 1.,\n",
       "       0., 1., 1., 1., 1., 1., 1., 1., 0., 0., 1., 0., 1., 1., 1., 1., 0.,\n",
       "       0., 1., 0., 1., 0., 1., 1., 0., 0., 0., 0., 1., 1., 1., 0., 0., 0.,\n",
       "       0., 1., 1., 0., 0., 1., 0., 0., 1., 0., 0., 1., 0., 1., 0., 1., 0.,\n",
       "       1., 1., 1., 1., 0., 1., 0., 1., 0., 1., 1., 0., 1., 1., 1., 0., 1.,\n",
       "       1., 0., 0., 0., 0., 0., 1., 0., 0., 0., 0., 0., 1., 0., 0., 0., 1.,\n",
       "       1., 1., 1., 0., 0., 1., 0., 0., 0., 1., 1., 1., 0., 0., 1., 0., 1.,\n",
       "       0., 0., 0., 0., 0., 1., 1., 1., 0., 0., 0., 1., 1., 1., 0., 1., 1.,\n",
       "       1., 1., 1., 0., 1., 1., 0., 1., 1., 0., 0.], dtype=float32)"
      ]
     },
     "execution_count": 22,
     "metadata": {},
     "output_type": "execute_result"
    }
   ],
   "source": [
    "preds_reg = model_reg.predict(X_test)\n",
    "preds_reg\n",
    "#\"1\" oznaczają wynik \"0\" dla kolumny t"
   ]
  },
  {
   "cell_type": "code",
   "execution_count": 787,
   "id": "fd28b430",
   "metadata": {},
   "outputs": [
    {
     "name": "stdout",
     "output_type": "stream",
     "text": [
      "[[152   4]\n",
      " [  1 143]]\n"
     ]
    }
   ],
   "source": [
    "cm = metrics.confusion_matrix(y_test[:,0], preds_reg)\n",
    "print(cm)"
   ]
  },
  {
   "cell_type": "code",
   "execution_count": 788,
   "id": "fd027381",
   "metadata": {},
   "outputs": [
    {
     "data": {
      "image/png": "[encoded data removed]",
      "text/plain": [
       "<Figure size 640x480 with 2 Axes>"
      ]
     },
     "metadata": {},
     "output_type": "display_data"
    }
   ],
   "source": [
    "sns.heatmap(cm, annot=True, fmt=\".0f\", cmap = 'Blues_r');\n",
    "plt.ylabel('Actual');\n",
    "plt.xlabel('Predicted');\n",
    "#all_sample_title = \n",
    "plt.title('Accuracy Score: {0}%'.format(round(score*100,2)));"
   ]
  },
  {
   "cell_type": "markdown",
   "id": "d527320c",
   "metadata": {},
   "source": [
    "Na powyższej mapie ciepła można zaobserwować, że pięć obserwacji zostało zakwalifikowanych błędnie."
   ]
  },
  {
   "cell_type": "code",
   "execution_count": 789,
   "id": "5e55b2dc",
   "metadata": {},
   "outputs": [
    {
     "name": "stdout",
     "output_type": "stream",
     "text": [
      "     Actual  Predicted  if_equal\n",
      "34      0.0        1.0  notequal\n",
      "44      0.0        1.0  notequal\n",
      "78      0.0        1.0  notequal\n",
      "158     1.0        0.0  notequal\n",
      "172     0.0        1.0  notequal\n"
     ]
    }
   ],
   "source": [
    "result = pd.DataFrame({'Actual' : y_test[:,0], 'Predicted' : preds_reg})\n",
    "result['if_equal'] = np.where((result['Actual'] == result['Predicted']), 'equal', 'notequal')\n",
    "print(result.loc[result['if_equal'] == 'notequal'])"
   ]
  },
  {
   "cell_type": "markdown",
   "id": "5c16e050",
   "metadata": {},
   "source": [
    "W powyższej tabelce możemy zauważyć, że dla wymienionych wierszy wyniki przewidywane i rzeczywiste się różnią."
   ]
  },
  {
   "cell_type": "code",
   "execution_count": 44,
   "id": "f19da7e1",
   "metadata": {
    "scrolled": true
   },
   "outputs": [
    {
     "data": {
      "text/plain": [
       "array([5.67381903e-02, 9.77684887e-01, 1.99717364e-03, 1.09504378e-04,\n",
       "       2.98401341e-02, 1.30530010e-03, 9.99992836e-01, 9.92542146e-01,\n",
       "       1.30350171e-01, 9.96441997e-01, 9.95523625e-01, 1.28776939e-02,\n",
       "       9.99028548e-01, 9.99862697e-01, 9.99997787e-01, 1.08437267e-03,\n",
       "       9.99991348e-01, 9.99944797e-01, 3.97764549e-02, 2.12566532e-03,\n",
       "       9.81289980e-01, 9.68521417e-01, 6.49950858e-04, 1.52934692e-04,\n",
       "       9.68241670e-01, 7.95195302e-03, 4.22446132e-04, 9.79249814e-01,\n",
       "       2.53376884e-05, 1.14541061e-05, 3.13209853e-04, 9.93420390e-05,\n",
       "       7.22100090e-03, 5.95375260e-05, 9.55883507e-01, 9.99184114e-01,\n",
       "       2.01856327e-01, 3.44725845e-01, 9.97512043e-01, 9.95208516e-01,\n",
       "       2.64052412e-02, 2.66935773e-04, 9.47956759e-03, 2.45755783e-03,\n",
       "       8.19142343e-01, 9.16268803e-05, 9.31516745e-02, 2.58295618e-05,\n",
       "       6.65782935e-01, 1.73471590e-04, 8.61467262e-04, 8.81888018e-01,\n",
       "       4.24439498e-05, 9.99998021e-01, 9.75997390e-01, 3.21633684e-02,\n",
       "       9.99798056e-01, 9.14205682e-07, 9.99262031e-01, 9.98269664e-01,\n",
       "       3.17745121e-04, 5.17573026e-03, 7.27640575e-06, 9.95590369e-01,\n",
       "       4.97870139e-05, 2.98675570e-06, 9.99902067e-01, 9.99992172e-01,\n",
       "       1.83404032e-03, 5.09843867e-04, 9.99434322e-01, 9.99708854e-01,\n",
       "       3.56797252e-03, 9.99999847e-01, 7.46610586e-04, 9.97754681e-01,\n",
       "       3.96589269e-07, 1.59174261e-03, 6.24287242e-01, 3.20224921e-03,\n",
       "       9.99998558e-01, 4.42800562e-01, 9.99935069e-01, 4.21010425e-03,\n",
       "       9.89674116e-01, 8.93052100e-05, 9.99592135e-01, 1.38532076e-05,\n",
       "       9.99871312e-01, 8.91863413e-01, 5.27065745e-06, 9.53184439e-04,\n",
       "       9.99983273e-01, 9.82399263e-01, 1.33177015e-04, 2.81799202e-05,\n",
       "       7.24722294e-01, 1.20812556e-03, 9.69024342e-01, 3.98820535e-04,\n",
       "       9.97440729e-01, 9.99879417e-01, 9.99069359e-01, 1.05257022e-03,\n",
       "       9.97386048e-01, 4.49509945e-02, 6.88847481e-02, 9.99955546e-01,\n",
       "       3.45022807e-03, 1.67051391e-02, 9.99645102e-01, 1.65220246e-03,\n",
       "       3.74455936e-04, 9.99762294e-01, 9.91738471e-01, 2.43916750e-05,\n",
       "       9.84175559e-01, 1.68531317e-04, 9.99886381e-01, 2.14466699e-04,\n",
       "       8.33850960e-01, 7.77027958e-04, 9.28236483e-01, 3.98697769e-04,\n",
       "       9.99997021e-01, 9.70192766e-01, 1.66373108e-02, 1.21986741e-04,\n",
       "       9.99937722e-01, 9.99997623e-01, 9.99927116e-01, 5.84487415e-04,\n",
       "       3.79166216e-04, 9.99907709e-01, 9.99271743e-01, 3.00229259e-03,\n",
       "       9.99892833e-01, 8.17871042e-01, 1.20717587e-04, 2.93659008e-01,\n",
       "       2.43012313e-02, 8.87779988e-01, 9.67959454e-01, 9.99890190e-01,\n",
       "       9.99275534e-01, 3.42976585e-04, 9.99469456e-01, 5.99299516e-04,\n",
       "       9.99615234e-01, 9.21531201e-01, 2.71897384e-01, 1.02551255e-02,\n",
       "       7.13575879e-06, 9.99998291e-01, 9.11369846e-01, 1.51822679e-01,\n",
       "       9.99998311e-01, 9.66548028e-03, 4.50958648e-01, 9.95713976e-01,\n",
       "       6.05548043e-02, 9.99992793e-01, 1.19749025e-04, 9.98779110e-01,\n",
       "       9.98081683e-01, 9.99481490e-01, 1.25214528e-01, 2.62074577e-02,\n",
       "       6.27018230e-04, 9.53888104e-01, 5.31222766e-03, 9.90763018e-01,\n",
       "       5.34476500e-01, 9.88555028e-01, 9.89398588e-01, 9.99281663e-01,\n",
       "       9.19822107e-01, 9.99999579e-01, 3.05922495e-06, 1.76485580e-02,\n",
       "       9.93212020e-01, 2.47795733e-03, 9.99999998e-01, 9.99427787e-01,\n",
       "       9.99841079e-01, 9.96500823e-01, 3.74323769e-04, 6.10346753e-04,\n",
       "       9.99790665e-01, 8.33624265e-05, 9.99575176e-01, 1.06786490e-02,\n",
       "       9.99080706e-01, 9.99486399e-01, 8.07981118e-04, 1.01201442e-04,\n",
       "       2.39554561e-04, 1.33830498e-01, 9.99541702e-01, 9.59421869e-01,\n",
       "       9.99336955e-01, 8.74931401e-06, 6.24855270e-04, 3.65810477e-03,\n",
       "       1.48774786e-01, 9.99589420e-01, 9.92474317e-01, 1.40315368e-03,\n",
       "       4.07250766e-03, 9.99986975e-01, 2.02169466e-02, 2.96304903e-05,\n",
       "       9.99972912e-01, 9.43408746e-03, 1.25842549e-01, 9.99808995e-01,\n",
       "       3.42957225e-01, 9.99745548e-01, 1.39387090e-03, 9.99707121e-01,\n",
       "       2.21942574e-02, 9.99622603e-01, 9.98852079e-01, 9.94504976e-01,\n",
       "       9.97375224e-01, 6.15699606e-02, 9.96609525e-01, 1.76550873e-04,\n",
       "       9.98262058e-01, 2.26391423e-03, 9.99999199e-01, 9.71423470e-01,\n",
       "       2.05243222e-03, 9.94171268e-01, 9.99927116e-01, 9.87957164e-01,\n",
       "       1.81057416e-03, 9.99096747e-01, 9.99434807e-01, 1.32519506e-02,\n",
       "       7.55290238e-04, 1.23897274e-04, 1.11381176e-03, 3.40498757e-04,\n",
       "       9.98353985e-01, 1.73583791e-03, 2.31827783e-04, 2.99598505e-03,\n",
       "       2.54595049e-02, 4.73039982e-01, 9.99940117e-01, 2.88114124e-01,\n",
       "       4.03976111e-04, 4.29921045e-06, 5.24839808e-01, 9.99961618e-01,\n",
       "       9.99750052e-01, 9.60216842e-01, 5.56406189e-03, 3.06617406e-05,\n",
       "       9.99813869e-01, 3.36230485e-04, 3.42900689e-05, 1.85481581e-02,\n",
       "       9.99790206e-01, 9.99794726e-01, 9.97638175e-01, 1.71732003e-04,\n",
       "       5.20544580e-05, 9.91180043e-01, 1.79639238e-03, 9.97868605e-01,\n",
       "       2.00223256e-03, 4.59481976e-04, 3.79131806e-03, 4.56046495e-01,\n",
       "       5.69853077e-02, 9.99776918e-01, 9.95028773e-01, 9.99604703e-01,\n",
       "       5.09203053e-04, 8.89367612e-02, 2.06375143e-04, 9.90035562e-01,\n",
       "       9.99968016e-01, 9.99544335e-01, 3.74860879e-05, 9.99780481e-01,\n",
       "       9.99994611e-01, 9.99963274e-01, 9.93223736e-01, 8.84588532e-01,\n",
       "       4.92563251e-03, 9.99954032e-01, 9.99997695e-01, 1.44344505e-06,\n",
       "       9.99621048e-01, 9.97537594e-01, 3.97875186e-03, 1.29858465e-04])"
      ]
     },
     "execution_count": 44,
     "metadata": {},
     "output_type": "execute_result"
    }
   ],
   "source": [
    "preds_proba = model_reg.predict_proba(X_test)[:,1]\n",
    "preds_proba"
   ]
  },
  {
   "cell_type": "code",
   "execution_count": 42,
   "id": "ce13b3bd",
   "metadata": {},
   "outputs": [
    {
     "data": {
      "image/png": "[encoded data removed]",
      "text/plain": [
       "<Figure size 640x480 with 1 Axes>"
      ]
     },
     "metadata": {},
     "output_type": "display_data"
    }
   ],
   "source": [
    "fpr, tpr, tresholds = roc_curve(y_test[:,0], preds_proba)\n",
    "plt.plot([0,1],[0,1], 'k--')\n",
    "plt.plot(fpr, tpr)\n",
    "plt.xlabel('False positive rate')\n",
    "plt.ylabel('True positive rate')\n",
    "plt.title('Logistic regression ROC curve')\n",
    "plt.show()"
   ]
  },
  {
   "cell_type": "code",
   "execution_count": 43,
   "id": "4837d92e",
   "metadata": {},
   "outputs": [
    {
     "name": "stdout",
     "output_type": "stream",
     "text": [
      "0.983707264957265\n"
     ]
    }
   ],
   "source": [
    "print(roc_auc_score(y_test[:,0], preds_reg))"
   ]
  },
  {
   "cell_type": "markdown",
   "id": "ef52e0e9",
   "metadata": {},
   "source": [
    "Z powyższego wykresu można zaobserwować, że krzywa ROC jest blisko modelu idealnego. Pole powierzchni pomiędzy krzywą ROC modelu predykcyjnego i krzywą ROC dla modelu losowego wynosi 98,37%, co zgadza się z przewidywanymi prawdopodobieństwami dokładności modelu regresji logistycznej oraz sieci neuronowej."
   ]
  },
  {
   "cell_type": "markdown",
   "id": "816f3132",
   "metadata": {},
   "source": [
    "# Podsumowanie:"
   ]
  },
  {
   "cell_type": "markdown",
   "id": "6d745ecf",
   "metadata": {},
   "source": [
    "Model sieci neuronowej jest bardzo zbliżony do modelu legresji logistycznej. W obu przypadkach przewidywane prawdopodobieństwo dokładności modelu wynosi 98,33% i dane przewidywane i rzeczywiste różnią się od siebie w obu metodach dla pięciu wierszy. Można zatem wywnioskować, że dla zbioru 'data' regresja logistyczna i sieć neuronowa są tak samo wydajnymi metodami."
   ]
  }
 ],
 "metadata": {
  "kernelspec": {
   "display_name": "Python 3 (ipykernel)",
   "language": "python",
   "name": "python3"
  },
  "language_info": {
   "codemirror_mode": {
    "name": "ipython",
    "version": 3
   },
   "file_extension": ".py",
   "mimetype": "text/x-python",
   "name": "python",
   "nbconvert_exporter": "python",
   "pygments_lexer": "ipython3",
   "version": "3.9.13"
  }
 },
 "nbformat": 4,
 "nbformat_minor": 5
}
